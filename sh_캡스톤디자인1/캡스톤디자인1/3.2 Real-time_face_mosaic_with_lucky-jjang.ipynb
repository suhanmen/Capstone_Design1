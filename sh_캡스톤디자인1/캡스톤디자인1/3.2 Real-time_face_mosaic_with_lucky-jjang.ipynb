{
 "cells": [
  {
   "cell_type": "code",
   "execution_count": 15,
   "metadata": {},
   "outputs": [
    {
     "name": "stdout",
     "output_type": "stream",
     "text": [
      "Number of faces detected: 1\n",
      "Number of faces detected: 1\n",
      "Number of faces detected: 1\n",
      "Number of faces detected: 1\n",
      "Number of faces detected: 1\n",
      "Number of faces detected: 1\n",
      "Number of faces detected: 1\n",
      "Number of faces detected: 1\n"
     ]
    }
   ],
   "source": [
    "import numpy as np\n",
    "import cv2\n",
    "\n",
    "xml = 'haarcascades/haarcascade_frontalface_default.xml'\n",
    "face_cascade = cv2.CascadeClassifier(xml)\n",
    "\n",
    "mosaic_img = cv2.imread('image/mosaic.png') # 럭키짱의 강건마 이미지를 저장\n",
    "\n",
    "cap = cv2.VideoCapture(0) # 노트북 웹캠을 카메라로 사용\n",
    "cap.set(3,640) # 너비\n",
    "cap.set(4,480) # 높이\n",
    "\n",
    "while(True):\n",
    "    ret, frame = cap.read() \n",
    "    frame = cv2.flip(frame, 1) # 좌우 대칭\n",
    "    gray = cv2.cvtColor(frame, cv2.COLOR_BGR2GRAY)\n",
    "\n",
    "    faces = face_cascade.detectMultiScale(gray,1.05,5)\n",
    "    print(\"Number of faces detected: \" + str(len(faces)))\n",
    "\n",
    "    if len(faces):\n",
    "        for (x,y,w,h) in faces:\n",
    "            \"\"\" 인식된 얼굴 영역을 강건마 이미지로 바꾸는 코드\"\"\"\n",
    "            # 인식된 얼굴 영역에 맞도록 강건마 이미지의 높이와 너비를 바꿔줌.\n",
    "            t = cv2.resize(mosaic_img, dsize=(h, w), interpolation=cv2.cv2.INTER_LINEAR)\n",
    "            frame[y:y+h, x:x+w] = t # 인식된 얼굴 영역을 강건마 이미지로 모자이크 처리\n",
    "\n",
    "            \"\"\" 사람의 어깨선과 머리선이 강건마 이미지와 딱 맞게 이어지도록 구현한 코드\n",
    "                문제는 나한테만 딱 맞는다... \"\"\"\n",
    "#             wi, hi = int(w*0.08/2), int(h*0.23/2)\n",
    "#             t = cv2.resize(mosaic_img, dsize=(w+wi*2, h+hi*2), interpolation=cv2.cv2.INTER_LINEAR)\n",
    "#             frame[y-hi:y+h+hi, x-wi:x+w+wi] = t\n",
    "\n",
    "    cv2.imshow('result', frame)\n",
    "        \n",
    "    k = cv2.waitKey(30) & 0xff\n",
    "    if k == 27: # Esc 키를 누르면 종료\n",
    "        break\n",
    "\n",
    "cap.release()\n",
    "cv2.destroyAllWindows()"
   ]
  },
  {
   "cell_type": "code",
   "execution_count": null,
   "metadata": {},
   "outputs": [],
   "source": []
  }
 ],
 "metadata": {
  "kernelspec": {
   "display_name": "Python 3",
   "language": "python",
   "name": "python3"
  },
  "language_info": {
   "codemirror_mode": {
    "name": "ipython",
    "version": 3
   },
   "file_extension": ".py",
   "mimetype": "text/x-python",
   "name": "python",
   "nbconvert_exporter": "python",
   "pygments_lexer": "ipython3",
   "version": "3.6.10"
  }
 },
 "nbformat": 4,
 "nbformat_minor": 2
}
