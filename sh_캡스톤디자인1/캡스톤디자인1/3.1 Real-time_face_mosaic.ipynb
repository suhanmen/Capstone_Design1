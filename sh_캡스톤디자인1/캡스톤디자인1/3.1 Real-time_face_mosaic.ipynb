{
 "cells": [
  {
   "cell_type": "code",
   "execution_count": 24,
   "metadata": {
    "scrolled": true
   },
   "outputs": [
    {
     "name": "stdout",
     "output_type": "stream",
     "text": [
      "Number of faces detected: 1\n",
      "Number of faces detected: 1\n",
      "Number of faces detected: 1\n",
      "Number of faces detected: 1\n",
      "Number of faces detected: 1\n",
      "Number of faces detected: 1\n"
     ]
    }
   ],
   "source": [
    "import numpy as np\n",
    "import cv2\n",
    "\n",
    "xml = 'haarcascades/haarcascade_frontalface_default.xml'\n",
    "face_cascade = cv2.CascadeClassifier(xml)\n",
    "\n",
    "cap = cv2.VideoCapture(0) # 노트북 웹캠을 카메라로 사용\n",
    "cap.set(3,640) # 너비\n",
    "cap.set(4,480) # 높이\n",
    "\n",
    "while(True):\n",
    "    ret, frame = cap.read() \n",
    "    frame = cv2.flip(frame, 1) # 좌우 대칭\n",
    "    gray = cv2.cvtColor(frame, cv2.COLOR_BGR2GRAY)\n",
    "\n",
    "    faces = face_cascade.detectMultiScale(gray,1.05,5) \n",
    "    print(\"Number of faces detected: \" + str(len(faces)))\n",
    "\n",
    "    if len(faces):\n",
    "        for (x,y,w,h) in faces:\n",
    "            face_img = frame[y:y+h, x:x+w] # 인식된 얼굴 이미지 crop\n",
    "            face_img = cv2.resize(face_img, dsize=(0, 0), fx=0.04, fy=0.04) # 축소\n",
    "            face_img = cv2.resize(face_img, (w, h), interpolation=cv2.INTER_AREA) # 확대\n",
    "            frame[y:y+h, x:x+w] = face_img # 인식된 얼굴 영역 모자이크 처리\n",
    "\n",
    "    cv2.imshow('result', frame)\n",
    "        \n",
    "    k = cv2.waitKey(30) & 0xff\n",
    "    if k == 27: # Esc 키를 누르면 종료\n",
    "        break\n",
    "\n",
    "cap.release()\n",
    "cv2.destroyAllWindows()"
   ]
  },
  {
   "cell_type": "code",
   "execution_count": null,
   "metadata": {},
   "outputs": [],
   "source": []
  }
 ],
 "metadata": {
  "kernelspec": {
   "display_name": "Python 3",
   "language": "python",
   "name": "python3"
  },
  "language_info": {
   "codemirror_mode": {
    "name": "ipython",
    "version": 3
   },
   "file_extension": ".py",
   "mimetype": "text/x-python",
   "name": "python",
   "nbconvert_exporter": "python",
   "pygments_lexer": "ipython3",
   "version": "3.6.10"
  }
 },
 "nbformat": 4,
 "nbformat_minor": 2
}
